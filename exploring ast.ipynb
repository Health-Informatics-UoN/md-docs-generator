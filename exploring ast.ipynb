{
 "cells": [
  {
   "cell_type": "code",
   "execution_count": null,
   "id": "a178bfb9-fd63-46cd-82cd-e44c9e80f2f9",
   "metadata": {},
   "outputs": [],
   "source": [
    "import ast\n",
    "from IPython.display import display, Markdown"
   ]
  },
  {
   "cell_type": "markdown",
   "id": "9e30579f-8a82-4979-983b-ecad428cfa59",
   "metadata": {},
   "source": [
    "The documentation for Hutch now uses [Nextra](https://nextra.site), which renders markdown into pages. I liked using Sphinx because it automatically populated an API reference for you if you used the autoapi plugin. This is a nice behaviour that would be useful if the DRS converges on Nextra as a solution.\n",
    "\n",
    "I don't know how to write a plugin for a static site generator, but I do know how to make something that just makes markdown files that you can drop in. I've already written a solution that makes the folder structure and inserts a header for any source code files. I had a hacky solution that renders python entities as markdown, but it was a bit rubbish. I've tried an improved version that goes through the python abstract syntax tree using `ast` from the standard library. I'll explain it using a python script that handily contains a method and a class.\n",
    "\n",
    "First we read the source as a string"
   ]
  },
  {
   "cell_type": "code",
   "execution_count": 24,
   "id": "a9f2cab0-48ee-47ad-b96e-04f89c879566",
   "metadata": {},
   "outputs": [
    {
     "data": {
      "text/plain": [
       "'import re\\nfrom os import environ\\nfrom urllib.parse import quote_plus\\nfrom typing import List\\n\\nimport pandas as pd\\nfrom dotenv import load_dotenv\\nfrom rapidfuzz import fuzz\\nfrom sqlalchemy import create_engine\\nfrom sqlalchemy.orm import sessionmaker\\nfrom omop.omop_models import build_query\\n\\nfrom logg'"
      ]
     },
     "execution_count": 24,
     "metadata": {},
     "output_type": "execute_result"
    }
   ],
   "source": [
    "with open(\"/Users/james/Documents/Code/lettuce/Lettuce/omop/OMOP_match.py\", \"r\") as f:\n",
    "    omop_source = f.read()\n",
    "\n",
    "omop_source[:300]"
   ]
  },
  {
   "cell_type": "markdown",
   "id": "a1634690-3b16-48d3-b29c-a7707222cfd1",
   "metadata": {},
   "source": [
    "`ast.parse` parses the code and gives you the syntax tree in the `.body` attribute of the resulting object."
   ]
  },
  {
   "cell_type": "code",
   "execution_count": 25,
   "id": "fbd02bf6-4165-4c15-ad85-c8d8bdff7ecc",
   "metadata": {},
   "outputs": [],
   "source": [
    "omop_tree = ast.parse(omop_source)"
   ]
  },
  {
   "cell_type": "code",
   "execution_count": 26,
   "id": "45f02f74-433d-49a1-84b0-fe4e55cd684d",
   "metadata": {},
   "outputs": [
    {
     "data": {
      "text/plain": [
       "[<ast.Import at 0x13ddbbf90>,\n",
       " <ast.ImportFrom at 0x13d7eba50>,\n",
       " <ast.ImportFrom at 0x13ddbbf10>,\n",
       " <ast.ImportFrom at 0x13ddbbe90>,\n",
       " <ast.Import at 0x13ddbbe10>,\n",
       " <ast.ImportFrom at 0x13ddbbd90>,\n",
       " <ast.ImportFrom at 0x13ddbbd10>,\n",
       " <ast.ImportFrom at 0x13ddbbc90>,\n",
       " <ast.ImportFrom at 0x13ddbbc10>,\n",
       " <ast.ImportFrom at 0x13ddbbb90>,\n",
       " <ast.ImportFrom at 0x13ddbbb10>,\n",
       " <ast.ImportFrom at 0x13ddbba90>,\n",
       " <ast.ClassDef at 0x13ddbba10>,\n",
       " <ast.FunctionDef at 0x13d9c7550>]"
      ]
     },
     "execution_count": 26,
     "metadata": {},
     "output_type": "execute_result"
    }
   ],
   "source": [
    "omop_tree.body"
   ]
  },
  {
   "cell_type": "markdown",
   "id": "2bd4dd16-b20f-4bc2-8c20-0d60381f5341",
   "metadata": {},
   "source": [
    "The objects in the `body` list are, in this case, imports, a class definition, and a function definition. Let's start with the function. We can access its name with the `.name` attribute."
   ]
  },
  {
   "cell_type": "code",
   "execution_count": 29,
   "id": "aa9d4992-ac19-4781-a2fc-748cdd2ed2f4",
   "metadata": {},
   "outputs": [
    {
     "name": "stdout",
     "output_type": "stream",
     "text": [
      "run\n"
     ]
    }
   ],
   "source": [
    "omop_functions = [x for x in omop_tree.body if isinstance(x, ast.FunctionDef)]\n",
    "for fun in omop_functions:\n",
    "    print(fun.name)"
   ]
  },
  {
   "cell_type": "markdown",
   "id": "44cddb57-6585-4188-9098-7835feabfb9b",
   "metadata": {},
   "source": [
    "## Functions\n",
    "\n",
    "There's a function, `ast.get_docstring` that retrieves the docstring for a definition. Here's `run`'s docstring."
   ]
  },
  {
   "cell_type": "code",
   "execution_count": 41,
   "id": "605b11ca-3845-4770-b411-e44d10b59c77",
   "metadata": {},
   "outputs": [
    {
     "data": {
      "text/plain": [
       "'Runs queries against the OMOP database\\n\\nLoads the query options from BaseOptions, then uses these to select which queries to run.\\n\\nParameters\\n----------\\nvocabulary_id: list[str]\\n    A list of vocabularies to use for search\\nconcept_ancestor: bool\\n    Whether to return ancestor concepts in the result\\nconcept_relationship: bool\\n    Whether to return related concepts in the result\\nconcept_synonym: bool\\n    Whether to explore concept synonyms in the result\\nsearch_threshold: int\\n    The fuzzy match threshold for results\\nmax_separation_descendant: int\\n    The maximum separation between a base concept and its descendants\\nmax_separation_ancestor: int\\n    The maximum separation between a base concept and its ancestors\\nsearch_term: str\\n    The name of a drug to use in queries to the OMOP database\\nlogger: Logger\\n    A logger for logging runs of the tool\\n\\nReturns\\n-------\\nlist\\n    A list of OMOP concepts relating to the search term and relevant information'"
      ]
     },
     "execution_count": 41,
     "metadata": {},
     "output_type": "execute_result"
    }
   ],
   "source": [
    "ast.get_docstring(omop_functions[0])"
   ]
  },
  {
   "cell_type": "markdown",
   "id": "38ab523c-0a03-42b8-9401-063d1531f0dc",
   "metadata": {},
   "source": [
    "We can define our first two functions for rendering python documentation with these. First, we can render the name of the `run` function. There's stuff here that rendering classes and methods will use later. I want my functions to start with an h3 header, and the name in plaintext, followed by opening a codeblock with\n",
    "```\n",
    "def some_name\n",
    "```"
   ]
  },
  {
   "cell_type": "code",
   "execution_count": 165,
   "id": "cf85e4ac-f6d7-4eac-98f2-bc56fba37376",
   "metadata": {},
   "outputs": [
    {
     "data": {
      "text/plain": [
       "'### `run`\\n```\\ndef run'"
      ]
     },
     "execution_count": 165,
     "metadata": {},
     "output_type": "execute_result"
    }
   ],
   "source": [
    "def render_name(name: str, entity_type: str = \"\") -> str:\n",
    "    \"\"\"\n",
    "    Renders the name of an entity for markdown\n",
    "\n",
    "    Parameters\n",
    "    ----------\n",
    "    name: str\n",
    "        The name of the entity\n",
    "    entity_type: str\n",
    "        The kind of entity we're rendering. \"method\" and \"class\" have slightly different formatting.\n",
    "        The default is just a def, for functions\n",
    "\n",
    "    Returns\n",
    "    -------\n",
    "    str\n",
    "        The name of the entity, formatted for markdown\n",
    "    \"\"\"\n",
    "    if entity_type == \"method\":\n",
    "        return f\"#### `{name}`\\n```\\nmethod {name}\"\n",
    "    elif entity_type == \"class\":\n",
    "        return f\"### `{name}`\\n```\\nclass {name}\"\n",
    "    else:\n",
    "        return f\"### `{name}`\\n```\\ndef {name}\"\n",
    "\n",
    "render_name(\"run\")"
   ]
  },
  {
   "cell_type": "markdown",
   "id": "85a6e23b-fd12-4300-a082-a080b51aa0e3",
   "metadata": {},
   "source": [
    "Next, we want to be able to render the docstring of a function. For mine, I have some text describing the function, then\n",
    "\n",
    "```\n",
    "Parameters\n",
    "----------\n",
    "```\n",
    "\n",
    "delineating the start of the description of the parameters and\n",
    "\n",
    "```\n",
    "Returns\n",
    "-------\n",
    "```\n",
    "delineating the start of the description of what the function returns. As I will have class methods as a subsection of a class, we need to be able to define what level of header to have the parameter and returns subsections at."
   ]
  },
  {
   "cell_type": "code",
   "execution_count": 173,
   "id": "fa55a974-29f4-4391-8d70-2b3797ebd01c",
   "metadata": {},
   "outputs": [
    {
     "data": {
      "text/plain": [
       "'Runs queries against the OMOP database\\n\\nLoads the query options from BaseOptions, then uses these to select which queries to run.\\n\\n#### Parameters\\nvocabulary_id: list[str]\\n\\nA list of vocabularies to use for search\\n\\nconcept_ancestor: bool\\n\\nWhether to return ancestor concepts in the result\\n\\nconcept_relationship: bool\\n\\nWhether to return related concepts in the result\\n\\nconcept_synonym: bool\\n\\nWhether to explore concept synonyms in the result\\n\\nsearch_threshold: int\\n\\nThe fuzzy match threshold for results\\n\\nmax_separation_descendant: int\\n\\nThe maximum separation between a base concept and its descendants\\n\\nmax_separation_ancestor: int\\n\\nThe maximum separation between a base concept and its ancestors\\n\\nsearch_term: str\\n\\nThe name of a drug to use in queries to the OMOP database\\n\\nlogger: Logger\\n\\nA logger for logging runs of the tool\\n\\n#### Returns\\nlist\\n\\nA list of OMOP concepts relating to the search term and relevant information\\n\\n'"
      ]
     },
     "execution_count": 173,
     "metadata": {},
     "output_type": "execute_result"
    }
   ],
   "source": [
    "def render_docstring(docstring: str, header_level: int = 4, parameters_string: str = \"Parameters\", returns_string: str = \"Returns\"):\n",
    "    \"\"\"\n",
    "    Renders the docstring of an entity for markdown.\n",
    "    The header level of the subsections are configurable.\n",
    "\n",
    "    Parameters\n",
    "    ----------\n",
    "    docstring: str\n",
    "        The docstring to render\n",
    "    header_level: int\n",
    "        The level of header that the Parameters and Returns should be rendered at\n",
    "    parameters_string: str\n",
    "        The string used to delineate the parameters section\n",
    "    returns_string: str\n",
    "        The string used to delineate the returns section\n",
    "\n",
    "    Returns\n",
    "    -------\n",
    "    str\n",
    "        The markdown for the docstring\n",
    "    \"\"\"\n",
    "    if (parameters_string in docstring) & (returns_string in docstring):\n",
    "        result, func_sig_string = docstring.split(parameters_string)\n",
    "        pars_string, ret_string = func_sig_string.split(returns_string)\n",
    "        result += \"#\" * header_level + f\" {parameters_string}\\n\"\n",
    "        for line in pars_string.split(\"\\n\"):\n",
    "            if any([char.isalnum() for char in line]):\n",
    "                result += line.strip() + \"\\n\\n\"\n",
    "        result += \"#\" * header_level + f\" {returns_string}\\n\"\n",
    "        for line in ret_string.split(\"\\n\"):\n",
    "            if any([char.isalnum() for char in line]):\n",
    "                result += line.strip() + \"\\n\\n\"\n",
    "    else:\n",
    "        result = docstring\n",
    "    return result\n",
    "\n",
    "render_docstring(ast.get_docstring(omop_functions[0]))"
   ]
  },
  {
   "cell_type": "markdown",
   "id": "b2032eb9-9e67-4f2c-97b8-000fb34c51e7",
   "metadata": {},
   "source": [
    "The next thing we want to have in our documentation is the arguments to the function/method. Here's the structure of `run`'s arguments:"
   ]
  },
  {
   "cell_type": "code",
   "execution_count": 175,
   "id": "fc99119f-e038-45eb-babb-8adf04207b09",
   "metadata": {},
   "outputs": [
    {
     "data": {
      "text/plain": [
       "[<ast.arg at 0x13d9c7290>,\n",
       " <ast.arg at 0x13d9c6b50>,\n",
       " <ast.arg at 0x13d9c6a50>,\n",
       " <ast.arg at 0x13d9c6090>,\n",
       " <ast.arg at 0x13d9c56d0>,\n",
       " <ast.arg at 0x13dde6f50>,\n",
       " <ast.arg at 0x13dde6e90>,\n",
       " <ast.arg at 0x13dde6c50>,\n",
       " <ast.arg at 0x13dde7990>]"
      ]
     },
     "execution_count": 175,
     "metadata": {},
     "output_type": "execute_result"
    }
   ],
   "source": [
    "omop_functions[0].args.args"
   ]
  },
  {
   "cell_type": "markdown",
   "id": "6c6f0d90-cfbb-45e6-bb75-d562f172caaf",
   "metadata": {},
   "source": [
    "There's a list of `arg` objects in there. These are the attributes of an arg."
   ]
  },
  {
   "cell_type": "code",
   "execution_count": 179,
   "id": "12d36643-b2ba-4639-882b-925ee924724a",
   "metadata": {},
   "outputs": [
    {
     "data": {
      "text/plain": [
       "['annotation', 'arg', 'lineno']"
      ]
     },
     "execution_count": 179,
     "metadata": {},
     "output_type": "execute_result"
    }
   ],
   "source": [
    "[attr for attr in dir(omop_functions[0].args.args[0]) if \"_\" not in attr]"
   ]
  },
  {
   "cell_type": "markdown",
   "id": "b69d12cf-301d-4965-b53e-ee59ad1a23e2",
   "metadata": {},
   "source": [
    "The `arg` attribute is the name of the argument, and the `annotation` is the type annotation. Ideally we want both. The `arg` is just a string, but a type annotation is defined recursively. For example, you can have\n",
    "\n",
    "```python\n",
    "List[Dict[str, Any]]\n",
    "```\n",
    "\n",
    "Where the main type annotation is that it's a `List`.\n",
    "\n",
    "If the annotation is a single type (`ast.Name`), then the `.id` returns the type, like `str`. However, if the annotation is more complex, the annotation is an `ast.Subscript`. This has a `.slice.id` describing that level's type. It also has a `.value`, which contains more annotations. This means we can recursively call a function that builds annotations. There might be other types of annotation which I haven't come across in the `ast` documentation, so I'm just having it return an empty string in these cases.\n",
    "\n",
    "I've put the functions for rendering arguments together with the `render_name` and `render_docstring` functions into `build_function_md`. Here's what that looks like for `run`"
   ]
  },
  {
   "cell_type": "code",
   "execution_count": 161,
   "id": "7b77cbb1-8520-402a-ab85-534ba828c0ed",
   "metadata": {},
   "outputs": [
    {
     "data": {
      "text/markdown": [
       "### `run`\n",
       "```\n",
       "def run(\n",
       "\tsearch_term: str[List]\n",
       "\n",
       "\tlogger: Logger\n",
       "\n",
       "\tvocabulary_id: str[list]\n",
       "\n",
       "\tsearch_threshold: int\n",
       "\n",
       "\tconcept_ancestor: bool\n",
       "\n",
       "\tconcept_relationship: bool\n",
       "\n",
       "\tconcept_synonym: bool\n",
       "\n",
       "\tmax_separation_descendant: int\n",
       "\n",
       "\tmax_separation_ancestor: int\n",
       "\n",
       ")\n",
       "```\n",
       "\n",
       "Runs queries against the OMOP database\n",
       "\n",
       "Loads the query options from BaseOptions, then uses these to select which queries to run.\n",
       "\n",
       "#### Parameters\n",
       "vocabulary_id: list[str]\n",
       "\n",
       "A list of vocabularies to use for search\n",
       "\n",
       "concept_ancestor: bool\n",
       "\n",
       "Whether to return ancestor concepts in the result\n",
       "\n",
       "concept_relationship: bool\n",
       "\n",
       "Whether to return related concepts in the result\n",
       "\n",
       "concept_synonym: bool\n",
       "\n",
       "Whether to explore concept synonyms in the result\n",
       "\n",
       "search_threshold: int\n",
       "\n",
       "The fuzzy match threshold for results\n",
       "\n",
       "max_separation_descendant: int\n",
       "\n",
       "The maximum separation between a base concept and its descendants\n",
       "\n",
       "max_separation_ancestor: int\n",
       "\n",
       "The maximum separation between a base concept and its ancestors\n",
       "\n",
       "search_term: str\n",
       "\n",
       "The name of a drug to use in queries to the OMOP database\n",
       "\n",
       "logger: Logger\n",
       "\n",
       "A logger for logging runs of the tool\n",
       "\n",
       "#### Returns\n",
       "list\n",
       "\n",
       "A list of OMOP concepts relating to the search term and relevant information\n",
       "\n"
      ],
      "text/plain": [
       "<IPython.core.display.Markdown object>"
      ]
     },
     "metadata": {},
     "output_type": "display_data"
    }
   ],
   "source": [
    "def build_annotation(annotation):\n",
    "    if isinstance(annotation, ast.Name):\n",
    "        return annotation.id\n",
    "    elif isinstance(annotation, ast.Subscript):\n",
    "        return f\"{annotation.slice.id}[{build_annotation(annotation.value)}]\"\n",
    "    else:\n",
    "        return \"\"\n",
    "        \n",
    "def render_args(function_args: ast.arguments):\n",
    "    result = \"\"\n",
    "    args = [arg.arg for arg in function_args.args]\n",
    "    annotations = [build_annotation(x) for x in [arg.annotation for arg in function_args.args]]\n",
    "    for arg, annotation in zip(args, annotations):\n",
    "        result += f\"\\t{arg}: {annotation}\\n\\n\"\n",
    "    return result\n",
    "        \n",
    "\n",
    "\n",
    "def build_function_md(function_definition: ast.FunctionDef):\n",
    "    result = \"\"\n",
    "    result += render_name(function_definition.name)\n",
    "    result += \"(\\n\"\n",
    "    result += render_args(function_definition.args)\n",
    "    result += \")\\n```\"\n",
    "    result += \"\\n\\n\"\n",
    "    result += render_docstring(ast.get_docstring(function_definition))\n",
    "\n",
    "    return result\n",
    "\n",
    "test_function_md = build_function_md(omop_functions[0])\n",
    "display(Markdown(test_function_md))"
   ]
  },
  {
   "cell_type": "markdown",
   "id": "beb76cdb-069f-4b39-af0d-44d94a97bf49",
   "metadata": {},
   "source": [
    "## Classes\n",
    "\n",
    "So much for functions. Classes are a bit more complicated. We have a class definition to use here, `OMOPMatcher`."
   ]
  },
  {
   "cell_type": "code",
   "execution_count": 118,
   "id": "81019262-3647-4a76-bfb6-fe8dafdc1583",
   "metadata": {},
   "outputs": [
    {
     "data": {
      "text/plain": [
       "[<ast.ClassDef at 0x13ddbba10>]"
      ]
     },
     "execution_count": 118,
     "metadata": {},
     "output_type": "execute_result"
    }
   ],
   "source": [
    "omop_classes = [x for x in omop_tree.body if isinstance(x, ast.ClassDef)]\n",
    "omop_classes"
   ]
  },
  {
   "cell_type": "code",
   "execution_count": 120,
   "id": "c9b450ef-e6f7-49f3-88a6-dae451bd1387",
   "metadata": {},
   "outputs": [
    {
     "name": "stdout",
     "output_type": "stream",
     "text": [
      "OMOPMatcher\n"
     ]
    },
    {
     "data": {
      "text/plain": [
       "'This class retrieves matches from an OMOP database and returns the best'"
      ]
     },
     "execution_count": 120,
     "metadata": {},
     "output_type": "execute_result"
    }
   ],
   "source": [
    "print(omop_classes[0].name)\n",
    "ast.get_docstring(omop_classes[0])"
   ]
  },
  {
   "cell_type": "markdown",
   "id": "3ff4fe9a-d2b6-4a24-a1cd-f137a721801a",
   "metadata": {},
   "source": [
    "We can re-use the code from above to `build_class_md`. This renders the name of the class similarly to a function. Then, it uses the `__init__` to provide a description of the class constructor. Annoyingly, this currently includes the `self` parameter. I'm tired of writing this, so I'm not fixing it right now. As this makes markdown files, we can just manually edit this out. It then renders the methods of the class under a Methods subheading."
   ]
  },
  {
   "cell_type": "code",
   "execution_count": 181,
   "id": "dd8678c3-588b-4ac8-8edf-2fca9ddea981",
   "metadata": {},
   "outputs": [
    {
     "data": {
      "text/markdown": [
       "### `OMOPMatcher`\n",
       "```\n",
       "class OMOPMatcher(\n",
       "\tself: \n",
       "\n",
       "\tlogger: Logger\n",
       "\n",
       ")\n",
       "```\n",
       "\n",
       "This class retrieves matches from an OMOP database and returns the best\n",
       "### Methods\n",
       "\n",
       "#### `__init__`\n",
       "```\n",
       "method __init__(\n",
       "\tself: \n",
       "\n",
       "\tlogger: Logger\n",
       "\n",
       ")\n",
       "```\n",
       "\n",
       "\n",
       "\n",
       "#### `close`\n",
       "```\n",
       "method close(\n",
       "\tself: \n",
       "\n",
       ")\n",
       "```\n",
       "\n",
       "Close the engine connection.\n",
       "\n",
       "#### `calculate_best_matches`\n",
       "```\n",
       "method calculate_best_matches(\n",
       "\tself: \n",
       "\n",
       "\tsearch_terms: str[List]\n",
       "\n",
       "\tvocabulary_id: \n",
       "\n",
       "\tconcept_ancestor: bool\n",
       "\n",
       "\tconcept_relationship: bool\n",
       "\n",
       "\tconcept_synonym: bool\n",
       "\n",
       "\tsearch_threshold: int\n",
       "\n",
       "\tmax_separation_descendant: int\n",
       "\n",
       "\tmax_separation_ancestor: int\n",
       "\n",
       ")\n",
       "```\n",
       "\n",
       "Calculate best OMOP matches for given search terms\n",
       "\n",
       "Calls fetch_OMOP_concepts on every item in search_terms.\n",
       "\n",
       "##### Parameters\n",
       "search_terms: List[str]\n",
       "\n",
       "A list of queries to send to the OMOP database\n",
       "\n",
       "vocabulary_id: str\n",
       "\n",
       "An OMOP vocabulary_id to pass to the OMOP query to restrict the concepts received to a specific vocabulary\n",
       "\n",
       "concept_ancestor: bool\n",
       "\n",
       "If 'y', then calls fetch_concept_ancestor()\n",
       "\n",
       "concept_relationship: bool\n",
       "\n",
       "If 'y', then calls fetch_concept_relationship()\n",
       "\n",
       "concept_synonym: bool\n",
       "\n",
       "If 'y', then queries the synonym table of the OMOP database for matches to the search terms\n",
       "\n",
       "search_threshold: int\n",
       "\n",
       "The threshold on fuzzy string matching for returned results\n",
       "\n",
       "max_separation_descendant: int\n",
       "\n",
       "The maximum separation to search for concept descendants\n",
       "\n",
       "max_separation_ancestor: int\n",
       "\n",
       "The maximum separation to search for concept ancestors\n",
       "\n",
       "##### Returns\n",
       "list\n",
       "\n",
       "A list of results for the search terms run with the other parameters provided.\n",
       "\n",
       "\n",
       "\n",
       "#### `fetch_OMOP_concepts`\n",
       "```\n",
       "method fetch_OMOP_concepts(\n",
       "\tself: \n",
       "\n",
       "\tsearch_term: str\n",
       "\n",
       "\tvocabulary_id: \n",
       "\n",
       "\tconcept_ancestor: bool\n",
       "\n",
       "\tconcept_relationship: bool\n",
       "\n",
       "\tconcept_synonym: bool\n",
       "\n",
       "\tsearch_threshold: int\n",
       "\n",
       "\tmax_separation_descendant: int\n",
       "\n",
       "\tmax_separation_ancestor: int\n",
       "\n",
       ")\n",
       "```\n",
       "\n",
       "Fetch OMOP concepts for a given search term\n",
       "\n",
       "Runs queries against the OMOP database\n",
       "If concept_synonym != 'y', then a query is run that queries the concept table alone. If concept_synonym == 'y', then this search is expanded to the concept_synonym table.\n",
       "\n",
       "Any concepts returned by the query are then filtered by fuzzy string matching. Any concepts satisfying the concept threshold are returned.\n",
       "\n",
       "If the concept_ancestor and concept_relationship arguments are 'y', the relevant methods are called on these concepts and the result added to the output.\n",
       "\n",
       "##### Parameters\n",
       "search_term: str\n",
       "\n",
       "A search term for a concept inserted into a query to the OMOP database\n",
       "\n",
       "vocabulary_id: list[str]\n",
       "\n",
       "A list of OMOP vocabularies to filter the findings by\n",
       "\n",
       "concept_ancestor: str\n",
       "\n",
       "If 'y' then appends the results of a call to fetch_concept_ancestor to the output\n",
       "\n",
       "concept_relationship: str\n",
       "\n",
       "If 'y' then appends the result of a call to fetch_concept_relationship to the output\n",
       "\n",
       "concept_synonym: str\n",
       "\n",
       "If 'y', checks the concept_synonym table for the search term\n",
       "\n",
       "search_threshold: int\n",
       "\n",
       "The threshold on fuzzy string matching for returned results\n",
       "\n",
       "max_separation_descendant: int\n",
       "\n",
       "The maximum separation to search for concept descendants\n",
       "\n",
       "max_separation_ancestor: int\n",
       "\n",
       "The maximum separation to search for concept ancestors\n",
       "\n",
       "##### Returns\n",
       "list | None\n",
       "\n",
       "A list of search results from the OMOP database if the query comes back with results, otherwise returns None\n",
       "\n",
       "\n",
       "\n",
       "#### `fetch_concept_ancestor`\n",
       "```\n",
       "method fetch_concept_ancestor(\n",
       "\tself: \n",
       "\n",
       "\tconcept_id: str\n",
       "\n",
       "\tmax_separation_descendant: int\n",
       "\n",
       "\tmax_separation_ancestor: int\n",
       "\n",
       ")\n",
       "```\n",
       "\n",
       "Fetch concept ancestor for a given concept_id\n",
       "\n",
       "Queries the OMOP database's ancestor table to find ancestors for the concept_id provided within the constraints of the degrees of separation provided.\n",
       "\n",
       "##### Parameters\n",
       "concept_id: str\n",
       "\n",
       "The concept_id used to find ancestors\n",
       "\n",
       "max_separation_descendant: int\n",
       "\n",
       "The maximum level of separation allowed between descendant concepts and the provided concept\n",
       "\n",
       "max_separation_ancestor: int\n",
       "\n",
       "The maximum level of separation allowed between ancestor concepts and the provided concept\n",
       "\n",
       "##### Returns\n",
       "list\n",
       "\n",
       "A list of retrieved concepts and their relationships to the provided concept_id\n",
       "\n",
       "\n",
       "\n",
       "#### `fetch_concept_relationship`\n",
       "```\n",
       "method fetch_concept_relationship(\n",
       "\tself: \n",
       "\n",
       "\tconcept_id: \n",
       "\n",
       ")\n",
       "```\n",
       "\n",
       "Fetch concept relationship for a given concept_id\n",
       "\n",
       "Queries the concept_relationship table of the OMOP database to find the relationship between concepts\n",
       "\n",
       "##### Parameters\n",
       "concept_id: str\n",
       "\n",
       "An id for a concept provided to the query for finding concept relationships\n",
       "\n",
       "##### Returns\n",
       "list\n",
       "\n",
       "A list of related concepts from the OMOP database\n",
       "\n"
      ],
      "text/plain": [
       "<IPython.core.display.Markdown object>"
      ]
     },
     "metadata": {},
     "output_type": "display_data"
    }
   ],
   "source": [
    "def build_class_md(class_definition: ast.FunctionDef):\n",
    "    methods = [x for x in class_definition.body if isinstance(x, ast.FunctionDef)]\n",
    "    init_method = [x for x in methods if x.name == \"__init__\"][0]\n",
    "    \n",
    "    result = \"\"\n",
    "    result += render_name(class_definition.name, entity_type=\"class\")\n",
    "    result += \"(\\n\"\n",
    "    result += render_args(init_method.args)\n",
    "    result += \")\\n```\\n\\n\"\n",
    "\n",
    "    result += render_docstring(ast.get_docstring(class_definition))\n",
    "    if len(methods) > 1:\n",
    "        result += \"\\n### Methods\"\n",
    "        for method in methods:\n",
    "            result += \"\\n\\n\"\n",
    "            result += render_name(method.name, entity_type = \"method\")\n",
    "            result += \"(\\n\"\n",
    "            result += render_args(method.args)\n",
    "            result += \")\\n```\"\n",
    "            result += \"\\n\\n\"\n",
    "            if ast.get_docstring(method):\n",
    "                result += render_docstring(ast.get_docstring(method), header_level = 5)\n",
    "\n",
    "    return result\n",
    "\n",
    "display(Markdown(build_class_md(omop_classes[0])))"
   ]
  },
  {
   "cell_type": "markdown",
   "id": "e2d0c41e-ef66-4c86-9231-b18a1bfe968a",
   "metadata": {},
   "source": [
    "Plugging this code into the `populate_python` function of my markdown docs builder makes more useful files."
   ]
  }
 ],
 "metadata": {
  "kernelspec": {
   "display_name": "Python 3 (ipykernel)",
   "language": "python",
   "name": "python3"
  },
  "language_info": {
   "codemirror_mode": {
    "name": "ipython",
    "version": 3
   },
   "file_extension": ".py",
   "mimetype": "text/x-python",
   "name": "python",
   "nbconvert_exporter": "python",
   "pygments_lexer": "ipython3",
   "version": "3.12.4"
  }
 },
 "nbformat": 4,
 "nbformat_minor": 5
}
